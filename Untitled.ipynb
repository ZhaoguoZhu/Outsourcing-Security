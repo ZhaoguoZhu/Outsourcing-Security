{
 "cells": [
  {
   "cell_type": "code",
   "execution_count": 1,
   "metadata": {},
   "outputs": [],
   "source": [
    "from gensim.models import Word2Vec\n",
    "import nltk\n",
    "import numpy as np\n",
    "from sklearn.cluster import KMeans\n",
    "from sklearn import cluster\n",
    "from sklearn import metrics\n",
    "from sklearn.decomposition import PCA\n",
    "from scipy.cluster import hierarchy\n",
    "from sklearn.cluster import AgglomerativeClustering\n",
    "import re\n",
    "import matplotlib.pyplot as plt"
   ]
  },
  {
   "cell_type": "code",
   "execution_count": 2,
   "metadata": {},
   "outputs": [],
   "source": [
    "sentence = []\n",
    "str1 = \"All records regarding the service of the 208th Engineer Combat Battalion anytime between December 7, 1941 and January 1, 1947.\"\n",
    "str2 = \"Information relating to an operation at the end of the Gulf War in April of 1991 dubbed Operation Manly Rip.\"\n",
    "str3 = \"A clearly releasable copy of Sections A through J of the awarded contract, including the statement of work, for the contract awarded from solicitation number HROO11O6ROO2.\"\n",
    "str4 = \"A copy of Section A (the cover page) for any contract awarded to date from solicitation number EFTHQ00038615002.\"\n",
    "str5 = \"A clearly releasable copy of Section A (the cover page) of any contract awarded to date off of solicitation number BAAO6O6.\""
   ]
  },
  {
   "cell_type": "code",
   "execution_count": 3,
   "metadata": {},
   "outputs": [],
   "source": [
    "str1 = re.sub(r'\\W+', ' ', str1).split()\n",
    "str2 = re.sub(r'\\W+', ' ', str2).split()\n",
    "str3 = re.sub(r'\\W+', ' ', str3).split()\n",
    "str4 = re.sub(r'\\W+', ' ', str4).split()\n",
    "str5 = re.sub(r'\\W+', ' ', str5).split()"
   ]
  },
  {
   "cell_type": "code",
   "execution_count": 4,
   "metadata": {},
   "outputs": [],
   "source": [
    "sentence.append(str1)\n",
    "sentence.append(str2)\n",
    "sentence.append(str3)\n",
    "sentence.append(str4)\n",
    "sentence.append(str5)"
   ]
  },
  {
   "cell_type": "code",
   "execution_count": 5,
   "metadata": {},
   "outputs": [
    {
     "data": {
      "text/plain": [
       "[['All',\n",
       "  'records',\n",
       "  'regarding',\n",
       "  'the',\n",
       "  'service',\n",
       "  'of',\n",
       "  'the',\n",
       "  '208th',\n",
       "  'Engineer',\n",
       "  'Combat',\n",
       "  'Battalion',\n",
       "  'anytime',\n",
       "  'between',\n",
       "  'December',\n",
       "  '7',\n",
       "  '1941',\n",
       "  'and',\n",
       "  'January',\n",
       "  '1',\n",
       "  '1947'],\n",
       " ['Information',\n",
       "  'relating',\n",
       "  'to',\n",
       "  'an',\n",
       "  'operation',\n",
       "  'at',\n",
       "  'the',\n",
       "  'end',\n",
       "  'of',\n",
       "  'the',\n",
       "  'Gulf',\n",
       "  'War',\n",
       "  'in',\n",
       "  'April',\n",
       "  'of',\n",
       "  '1991',\n",
       "  'dubbed',\n",
       "  'Operation',\n",
       "  'Manly',\n",
       "  'Rip'],\n",
       " ['A',\n",
       "  'clearly',\n",
       "  'releasable',\n",
       "  'copy',\n",
       "  'of',\n",
       "  'Sections',\n",
       "  'A',\n",
       "  'through',\n",
       "  'J',\n",
       "  'of',\n",
       "  'the',\n",
       "  'awarded',\n",
       "  'contract',\n",
       "  'including',\n",
       "  'the',\n",
       "  'statement',\n",
       "  'of',\n",
       "  'work',\n",
       "  'for',\n",
       "  'the',\n",
       "  'contract',\n",
       "  'awarded',\n",
       "  'from',\n",
       "  'solicitation',\n",
       "  'number',\n",
       "  'HROO11O6ROO2'],\n",
       " ['A',\n",
       "  'copy',\n",
       "  'of',\n",
       "  'Section',\n",
       "  'A',\n",
       "  'the',\n",
       "  'cover',\n",
       "  'page',\n",
       "  'for',\n",
       "  'any',\n",
       "  'contract',\n",
       "  'awarded',\n",
       "  'to',\n",
       "  'date',\n",
       "  'from',\n",
       "  'solicitation',\n",
       "  'number',\n",
       "  'EFTHQ00038615002'],\n",
       " ['A',\n",
       "  'clearly',\n",
       "  'releasable',\n",
       "  'copy',\n",
       "  'of',\n",
       "  'Section',\n",
       "  'A',\n",
       "  'the',\n",
       "  'cover',\n",
       "  'page',\n",
       "  'of',\n",
       "  'any',\n",
       "  'contract',\n",
       "  'awarded',\n",
       "  'to',\n",
       "  'date',\n",
       "  'off',\n",
       "  'of',\n",
       "  'solicitation',\n",
       "  'number',\n",
       "  'BAAO6O6']]"
      ]
     },
     "execution_count": 5,
     "metadata": {},
     "output_type": "execute_result"
    }
   ],
   "source": [
    "sentence"
   ]
  },
  {
   "cell_type": "code",
   "execution_count": 6,
   "metadata": {},
   "outputs": [
    {
     "name": "stderr",
     "output_type": "stream",
     "text": [
      "<ipython-input-6-d6564af3d7a0>:8: DeprecationWarning: Call to deprecated `__getitem__` (Method will be removed in 4.0.0, use self.wv.__getitem__() instead).\n",
      "  vec = m[w]\n",
      "<ipython-input-6-d6564af3d7a0>:10: DeprecationWarning: Call to deprecated `__getitem__` (Method will be removed in 4.0.0, use self.wv.__getitem__() instead).\n",
      "  vec = np.add(vec, m[w])\n"
     ]
    }
   ],
   "source": [
    "m = Word2Vec(sentence, size=50, min_count=1,sg=1)\n",
    "def vectorizer(sent,m):\n",
    "    vec = []\n",
    "    numw = 0\n",
    "    for w in sent:\n",
    "        try:\n",
    "            if numw == 0:\n",
    "                vec = m[w]\n",
    "            else:\n",
    "                vec = np.add(vec, m[w])\n",
    "            numw += 1\n",
    "        except:\n",
    "            pass\n",
    "    return np.asarray(vec)/numw\n",
    "\n",
    "l = []\n",
    "for i in sentence:\n",
    "    l.append(vectorizer(i,m))\n",
    "X = np.array(l)"
   ]
  },
  {
   "cell_type": "code",
   "execution_count": 7,
   "metadata": {},
   "outputs": [
    {
     "data": {
      "text/plain": [
       "array([[ 4.14058013e-04,  6.66438136e-04,  7.17808376e-04,\n",
       "        -2.46499258e-04,  7.94895575e-04, -2.57168175e-03,\n",
       "         6.53540657e-04,  1.14103837e-03,  2.13041413e-03,\n",
       "        -3.61373939e-04,  2.37387163e-03, -2.75705778e-03,\n",
       "         5.52691999e-05, -3.10675416e-04, -1.09394081e-03,\n",
       "         2.88528856e-04,  2.32728082e-03, -2.15703156e-03,\n",
       "         1.42287288e-03, -1.10785174e-03, -1.64739249e-04,\n",
       "        -4.92155261e-04,  6.03870314e-04,  1.95036305e-03,\n",
       "         8.99537175e-04, -2.45919684e-03, -8.52644094e-04,\n",
       "         6.53900264e-04,  7.13618065e-04,  1.90534291e-03,\n",
       "        -6.02875953e-04,  5.97701175e-04,  1.86655519e-03,\n",
       "         1.29662061e-04,  5.36150765e-04,  7.78411340e-04,\n",
       "        -9.74549563e-04, -2.70632969e-04,  1.40141463e-03,\n",
       "        -6.39959530e-04, -2.22445326e-03,  2.10601417e-03,\n",
       "        -5.94353362e-04,  9.87434527e-04,  1.14196190e-03,\n",
       "         1.04353053e-03,  6.17838668e-05, -1.92423555e-04,\n",
       "        -4.34781046e-04, -1.07095181e-03],\n",
       "       [ 7.13822083e-04,  4.81221650e-04, -4.07127489e-04,\n",
       "        -1.49276562e-03, -3.25481175e-04, -1.57809656e-04,\n",
       "        -2.03378359e-03,  1.31411243e-05, -7.79843656e-04,\n",
       "        -9.52971750e-04,  2.23481446e-03, -2.61484901e-03,\n",
       "        -3.91558278e-03, -2.47037620e-04, -2.48147669e-04,\n",
       "         3.97964614e-05,  1.60145733e-04, -2.17413600e-03,\n",
       "        -4.45872080e-04,  2.00376657e-04, -1.84247037e-04,\n",
       "         7.47721759e-04,  2.78948981e-04,  2.17951718e-03,\n",
       "         1.14413246e-03,  1.27435487e-03,  2.76876643e-04,\n",
       "        -1.27809544e-04,  8.63924623e-04, -1.61105185e-03,\n",
       "        -9.66446125e-04, -9.46303713e-04,  8.54007900e-04,\n",
       "         2.41572410e-03,  1.75613875e-03, -1.74830740e-04,\n",
       "        -1.42387235e-05, -1.80944029e-04,  7.62762153e-04,\n",
       "         6.38294208e-04, -2.87584669e-04,  8.59620850e-05,\n",
       "        -2.23035947e-03, -1.88135146e-03,  2.56002299e-04,\n",
       "         2.40741152e-04,  2.72955047e-03,  9.13795899e-04,\n",
       "        -1.33002771e-03, -1.42982882e-03],\n",
       "       [-8.81674176e-04,  1.79968937e-03, -1.25939026e-03,\n",
       "        -2.61328393e-03, -3.38417129e-04, -8.67784023e-04,\n",
       "         8.69576412e-04,  7.31028209e-04, -1.09563291e-03,\n",
       "         5.66364208e-04,  2.79166596e-03, -1.68743427e-03,\n",
       "        -1.56598480e-03,  4.31688502e-04, -1.30483718e-03,\n",
       "         6.27322705e-04,  1.15554396e-03, -1.61691313e-03,\n",
       "        -3.51201947e-04,  5.39773551e-04, -1.45710554e-04,\n",
       "        -1.82257465e-03,  2.49114411e-04,  3.41083738e-03,\n",
       "         4.76747897e-04,  2.57591979e-04, -2.87656207e-04,\n",
       "         4.58956347e-04,  2.88395863e-03,  1.48542167e-03,\n",
       "         4.92383377e-04,  1.01040618e-03,  6.55931653e-04,\n",
       "         2.77865771e-03,  1.66043395e-03,  2.26872694e-03,\n",
       "        -8.92339915e-04,  5.89500414e-04,  3.00080306e-03,\n",
       "         2.84613390e-03, -4.57506190e-04,  2.44755694e-03,\n",
       "        -8.35599669e-04,  7.15087226e-04,  1.26461545e-03,\n",
       "        -1.52651244e-03,  1.64183555e-03, -1.01530994e-03,\n",
       "        -3.57357640e-04, -1.94128091e-03],\n",
       "       [-1.62909040e-03,  1.04823604e-03, -8.32724851e-04,\n",
       "        -1.93451054e-03,  1.65643869e-03,  1.54489337e-03,\n",
       "        -1.07702672e-05, -5.53101418e-04,  7.67471356e-05,\n",
       "        -9.56289063e-04,  4.99820628e-04,  1.36396429e-03,\n",
       "        -2.42268387e-03,  9.88232787e-04, -1.58694209e-04,\n",
       "         1.12380029e-03,  1.83641224e-03, -2.74502486e-03,\n",
       "        -6.01614360e-04,  1.41110306e-03,  3.11886048e-04,\n",
       "        -7.71381252e-04, -2.32979495e-04,  3.18478560e-03,\n",
       "         1.88708000e-04,  1.31020299e-03, -7.33655703e-04,\n",
       "        -5.46436640e-04,  1.52361777e-03, -1.77067937e-03,\n",
       "         5.73337195e-04,  5.32894628e-04, -2.68799067e-03,\n",
       "         5.42560534e-04,  3.93026276e-03,  6.18139980e-04,\n",
       "        -1.29681546e-03,  7.45964295e-04,  1.51423598e-03,\n",
       "         1.55772746e-03,  2.13926251e-04, -2.92776414e-04,\n",
       "         6.51440932e-04,  1.30533380e-03, -1.12831173e-03,\n",
       "        -1.35774084e-03,  1.56048185e-03, -1.41590310e-03,\n",
       "         4.10386268e-03, -1.12105801e-03],\n",
       "       [-1.38481427e-03,  1.55598464e-04, -1.52983586e-03,\n",
       "        -2.16190238e-03,  1.12998835e-03,  2.88159528e-04,\n",
       "         1.96360008e-04, -5.17196662e-04, -1.48533029e-04,\n",
       "        -1.47461961e-03,  1.14849900e-04, -7.47215876e-04,\n",
       "        -1.29848742e-03,  4.72323882e-04, -1.79533454e-04,\n",
       "         1.76626351e-03,  1.22390885e-03, -2.24627601e-03,\n",
       "        -2.41688496e-04, -6.06386864e-04,  8.57913255e-05,\n",
       "        -2.12078192e-03,  2.40397043e-04,  3.35127534e-03,\n",
       "        -2.63565278e-04, -2.34799954e-05,  9.45237625e-05,\n",
       "         4.99646761e-04,  1.22348114e-03, -5.40431938e-04,\n",
       "        -5.43764436e-05,  7.45281402e-04, -2.61143269e-03,\n",
       "        -4.07105836e-04,  2.76187109e-03,  1.37589499e-03,\n",
       "        -1.28875673e-03,  1.02353189e-03,  1.65692752e-03,\n",
       "         2.27732980e-03,  5.17183391e-04, -9.54543706e-04,\n",
       "         2.84381909e-04,  7.77527515e-04, -1.67528028e-03,\n",
       "         1.30551824e-04,  1.94484764e-03, -1.96083076e-03,\n",
       "         2.38474621e-03, -1.26501545e-05]], dtype=float32)"
      ]
     },
     "execution_count": 7,
     "metadata": {},
     "output_type": "execute_result"
    }
   ],
   "source": [
    "X"
   ]
  },
  {
   "cell_type": "code",
   "execution_count": 8,
   "metadata": {},
   "outputs": [
    {
     "data": {
      "image/png": "[encoded data removed]",
      "text/plain": [
       "<Figure size 432x288 with 1 Axes>"
      ]
     },
     "metadata": {
      "needs_background": "light"
     },
     "output_type": "display_data"
    }
   ],
   "source": [
    "Z = hierarchy.linkage(X, \"ward\")\n",
    "dn = hierarchy.dendrogram(Z)\n",
    "plt.title(\"Dendrogram\")\n",
    "plt.ylabel(\"Euclidean distances\")\n",
    "plt.xlim(0,100)\n",
    "plt.ylim(0,0.05)\n",
    "plt.show()"
   ]
  },
  {
   "cell_type": "code",
   "execution_count": 10,
   "metadata": {},
   "outputs": [
    {
     "data": {
      "text/plain": [
       "{'icoord': [[5.0, 5.0, 15.0, 15.0],\n",
       "  [35.0, 35.0, 45.0, 45.0],\n",
       "  [25.0, 25.0, 40.0, 40.0],\n",
       "  [10.0, 10.0, 32.5, 32.5]],\n",
       " 'dcoord': [[0.0, 0.005870672534856699, 0.005870672534856699, 0.0],\n",
       "  [0.0, 0.009994268410814163, 0.009994268410814163, 0.0],\n",
       "  [0.0, 0.010875927510769831, 0.010875927510769831, 0.009994268410814163],\n",
       "  [0.005870672534856699,\n",
       "   0.014964267701017038,\n",
       "   0.014964267701017038,\n",
       "   0.010875927510769831]],\n",
       " 'ivl': ['3', '4', '1', '0', '2'],\n",
       " 'leaves': [3, 4, 1, 0, 2],\n",
       " 'color_list': ['g', 'r', 'b', 'b']}"
      ]
     },
     "execution_count": 10,
     "metadata": {},
     "output_type": "execute_result"
    }
   ],
   "source": []
  },
  {
   "cell_type": "code",
   "execution_count": 12,
   "metadata": {},
   "outputs": [
    {
     "name": "stdout",
     "output_type": "stream",
     "text": [
      "[0 2 0 1 1]\n",
      "0:['All', 'records', 'regarding', 'the', 'service', 'of', 'the', '208th', 'Engineer', 'Combat', 'Battalion', 'anytime', 'between', 'December', '7', '1941', 'and', 'January', '1', '1947']\n",
      "2:['Information', 'relating', 'to', 'an', 'operation', 'at', 'the', 'end', 'of', 'the', 'Gulf', 'War', 'in', 'April', 'of', '1991', 'dubbed', 'Operation', 'Manly', 'Rip']\n",
      "0:['A', 'clearly', 'releasable', 'copy', 'of', 'Sections', 'A', 'through', 'J', 'of', 'the', 'awarded', 'contract', 'including', 'the', 'statement', 'of', 'work', 'for', 'the', 'contract', 'awarded', 'from', 'solicitation', 'number', 'HROO11O6ROO2']\n",
      "1:['A', 'copy', 'of', 'Section', 'A', 'the', 'cover', 'page', 'for', 'any', 'contract', 'awarded', 'to', 'date', 'from', 'solicitation', 'number', 'EFTHQ00038615002']\n",
      "1:['A', 'clearly', 'releasable', 'copy', 'of', 'Section', 'A', 'the', 'cover', 'page', 'of', 'any', 'contract', 'awarded', 'to', 'date', 'off', 'of', 'solicitation', 'number', 'BAAO6O6']\n"
     ]
    }
   ],
   "source": [
    "hc = AgglomerativeClustering(n_clusters = 3, affinity = \"euclidean\", linkage = \"ward\")\n",
    "y_hc = hc.fit_predict(X)\n",
    "print(y_hc)\n",
    "for index, sentence in enumerate(sentence):\n",
    "    print(str(y_hc[index]) + \":\" + str(sentence))"
   ]
  },
  {
   "cell_type": "code",
   "execution_count": null,
   "metadata": {},
   "outputs": [],
   "source": []
  }
 ],
 "metadata": {
  "kernelspec": {
   "display_name": "Python 3",
   "language": "python",
   "name": "python3"
  },
  "language_info": {
   "codemirror_mode": {
    "name": "ipython",
    "version": 3
   },
   "file_extension": ".py",
   "mimetype": "text/x-python",
   "name": "python",
   "nbconvert_exporter": "python",
   "pygments_lexer": "ipython3",
   "version": "3.8.6"
  }
 },
 "nbformat": 4,
 "nbformat_minor": 4
}
