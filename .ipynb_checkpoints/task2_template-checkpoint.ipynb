{
 "cells": [
  {
   "cell_type": "markdown",
   "metadata": {
    "nbpresent": {
     "id": "1d234e3f-af8b-4757-83f3-241b04b7a511"
    }
   },
   "source": [
    "# Class Challenge: Image Classification of COVID-19 X-rays\n",
    "# Task 2 [Total points: 30]"
   ]
  },
  {
   "cell_type": "markdown",
   "metadata": {
    "nbpresent": {
     "id": "b07b9992-b592-4871-9f9a-3b0ae5fa8b5f"
    }
   },
   "source": [
    "## Setup\n",
    "\n",
    "* This assignment involves the following packages: 'matplotlib', 'numpy', and 'sklearn'. \n",
    "\n",
    "* If you are using conda, use the following commands to install the above packages:<br>\n",
    "```shell\n",
    "conda install matplotlib\n",
    "conda install numpy\n",
    "conda install -c anaconda scikit-learn\n",
    "```\n",
    "\n",
    "* If you are using pip, use use the following commands to install the above packages: <br> \n",
    "```shell\n",
    "pip install matplotlib\n",
    "pip install numpy\n",
    "pip install sklearn\n",
    "```"
   ]
  },
  {
   "cell_type": "markdown",
   "metadata": {
    "nbpresent": {
     "id": "5516f610-f00c-43c3-bf19-4cf7ab9c089f"
    }
   },
   "source": [
    "## Data\n",
    "\n",
    "Please download the data using the following link: [COVID-19](https://drive.google.com/file/d/1Y88tgqpQ1Pjko_7rntcPowOJs_QNOrJ-/view). \n",
    "\n",
    "* After downloading 'Covid_Data_GradientCrescent.zip', unzip the file and you should see the following data structure:\n",
    "\n",
    "\n",
    "|--all<br>\n",
    "|--------train<br>\n",
    "|--------test<br>\n",
    "|--two<br>\n",
    "|--------train<br>\n",
    "|--------test<br>\n",
    "\n",
    "\n",
    "* Put the 'all' folder, the 'two' folder and this python notebook in the **same directory** so that the following code can correctly locate the data.  \n",
    "\n"
   ]
  },
  {
   "cell_type": "markdown",
   "metadata": {
    "nbpresent": {
     "id": "66140980-2aa4-457f-b1df-74c10c234cc2"
    }
   },
   "source": [
    "## [20 points] Multi-class Classification"
   ]
  },
  {
   "cell_type": "code",
   "execution_count": 1,
   "metadata": {
    "nbpresent": {
     "id": "5e05f980-3d14-4367-b3d1-664249145b13"
    },
    "scrolled": true
   },
   "outputs": [
    {
     "data": {
      "text/plain": [
       "'2.3.0'"
      ]
     },
     "execution_count": 1,
     "metadata": {},
     "output_type": "execute_result"
    }
   ],
   "source": [
    "import os\n",
    "\n",
    "import tensorflow as tf\n",
    "import numpy as np\n",
    "import matplotlib.pyplot as plt\n",
    "from tensorflow.keras.preprocessing.image import ImageDataGenerator\n",
    "\n",
    "os.environ['OMP_NUM_THREADS'] = '1'\n",
    "os.environ['CUDA_VISIBLE_DEVICES'] = '-1'\n",
    "tf.__version__"
   ]
  },
  {
   "cell_type": "markdown",
   "metadata": {
    "nbpresent": {
     "id": "66140980-2aa4-457f-b1df-74c10c234cc2"
    }
   },
   "source": [
    "#### Load Image Data"
   ]
  },
  {
   "cell_type": "code",
   "execution_count": 2,
   "metadata": {
    "nbpresent": {
     "id": "58317664-8da3-4283-b3e5-35721687e7ab"
    }
   },
   "outputs": [],
   "source": [
    "DATA_LIST = os.listdir('all/train')\n",
    "DATASET_PATH  = 'all/train'\n",
    "TEST_DIR =  'all/test'\n",
    "IMAGE_SIZE    = (224, 224)\n",
    "NUM_CLASSES   = len(DATA_LIST)\n",
    "BATCH_SIZE    = 10  # try reducing batch size or freeze more layers if your GPU runs out of memory\n",
    "NUM_EPOCHS    = 100\n",
    "LEARNING_RATE = 0.0001 # start off with high rate first 0.001 and experiment with reducing it gradually "
   ]
  },
  {
   "cell_type": "markdown",
   "metadata": {
    "nbpresent": {
     "id": "66140980-2aa4-457f-b1df-74c10c234cc2"
    }
   },
   "source": [
    "#### Generate Training and Validation Batches"
   ]
  },
  {
   "cell_type": "code",
   "execution_count": 3,
   "metadata": {
    "nbpresent": {
     "id": "71760e29-2b08-4259-93f1-ebe68cd74a6d"
    }
   },
   "outputs": [
    {
     "name": "stdout",
     "output_type": "stream",
     "text": [
      "Found 216 images belonging to 4 classes.\n",
      "Found 54 images belonging to 4 classes.\n"
     ]
    },
    {
     "name": "stderr",
     "output_type": "stream",
     "text": [
      "C:\\Users\\Zhaoguo Zhu\\AppData\\Local\\Packages\\PythonSoftwareFoundation.Python.3.8_qbz5n2kfra8p0\\LocalCache\\local-packages\\Python38\\site-packages\\keras_preprocessing\\image\\image_data_generator.py:342: UserWarning: This ImageDataGenerator specifies `zca_whitening` which overrides setting of`featurewise_std_normalization`.\n",
      "  warnings.warn('This ImageDataGenerator specifies '\n"
     ]
    }
   ],
   "source": [
    "train_datagen = ImageDataGenerator(rescale=1./255,rotation_range=50,featurewise_center = True,\n",
    "                                   featurewise_std_normalization = True,width_shift_range=0.2,\n",
    "                                   height_shift_range=0.2,shear_range=0.25,zoom_range=0.1,\n",
    "                                   zca_whitening = True,channel_shift_range = 20,\n",
    "                                   horizontal_flip = True,vertical_flip = True,\n",
    "                                   validation_split = 0.2,fill_mode='constant')\n",
    "\n",
    "\n",
    "train_batches = train_datagen.flow_from_directory(DATASET_PATH,target_size=IMAGE_SIZE,\n",
    "                                                  shuffle=True,batch_size=BATCH_SIZE,\n",
    "                                                  subset = \"training\",seed=42,\n",
    "                                                  class_mode=\"categorical\")\n",
    "\n",
    "valid_batches = train_datagen.flow_from_directory(DATASET_PATH,target_size=IMAGE_SIZE,\n",
    "                                                  shuffle=True,batch_size=BATCH_SIZE,\n",
    "                                                  subset = \"validation\",\n",
    "                                                  seed=42,class_mode=\"categorical\")"
   ]
  },
  {
   "cell_type": "markdown",
   "metadata": {
    "nbpresent": {
     "id": "66140980-2aa4-457f-b1df-74c10c234cc2"
    }
   },
   "source": [
    "#### [10 points] Build Model\n",
    "Hint: Starting from a pre-trained model typically helps performance on a new task, e.g. starting with weights obtained by training on ImageNet. "
   ]
  },
  {
   "cell_type": "code",
   "execution_count": 4,
   "metadata": {
    "nbpresent": {
     "id": "5c52eeb2-1092-4d45-9e16-02219c82cb5e"
    }
   },
   "outputs": [
    {
     "name": "stdout",
     "output_type": "stream",
     "text": [
      "Model: \"sequential\"\n",
      "_________________________________________________________________\n",
      "Layer (type)                 Output Shape              Param #   \n",
      "=================================================================\n",
      "vgg16 (Functional)           (None, 7, 7, 512)         14714688  \n",
      "_________________________________________________________________\n",
      "flatten (Flatten)            (None, 25088)             0         \n",
      "_________________________________________________________________\n",
      "dense (Dense)                (None, 1024)              25691136  \n",
      "_________________________________________________________________\n",
      "dropout (Dropout)            (None, 1024)              0         \n",
      "_________________________________________________________________\n",
      "dense_1 (Dense)              (None, 512)               524800    \n",
      "_________________________________________________________________\n",
      "dropout_1 (Dropout)          (None, 512)               0         \n",
      "_________________________________________________________________\n",
      "dense_2 (Dense)              (None, 256)               131328    \n",
      "_________________________________________________________________\n",
      "dropout_2 (Dropout)          (None, 256)               0         \n",
      "_________________________________________________________________\n",
      "dense_3 (Dense)              (None, 128)               32896     \n",
      "_________________________________________________________________\n",
      "dropout_3 (Dropout)          (None, 128)               0         \n",
      "_________________________________________________________________\n",
      "dense_4 (Dense)              (None, 4)                 516       \n",
      "=================================================================\n",
      "Total params: 41,095,364\n",
      "Trainable params: 26,380,676\n",
      "Non-trainable params: 14,714,688\n",
      "_________________________________________________________________\n",
      "Model: \"sequential_1\"\n",
      "_________________________________________________________________\n",
      "Layer (type)                 Output Shape              Param #   \n",
      "=================================================================\n",
      "resnet50 (Functional)        (None, 7, 7, 2048)        23587712  \n",
      "_________________________________________________________________\n",
      "flatten_1 (Flatten)          (None, 100352)            0         \n",
      "_________________________________________________________________\n",
      "dense_5 (Dense)              (None, 1024)              102761472 \n",
      "_________________________________________________________________\n",
      "dropout_4 (Dropout)          (None, 1024)              0         \n",
      "_________________________________________________________________\n",
      "dense_6 (Dense)              (None, 512)               524800    \n",
      "_________________________________________________________________\n",
      "dropout_5 (Dropout)          (None, 512)               0         \n",
      "_________________________________________________________________\n",
      "dense_7 (Dense)              (None, 256)               131328    \n",
      "_________________________________________________________________\n",
      "dropout_6 (Dropout)          (None, 256)               0         \n",
      "_________________________________________________________________\n",
      "dense_8 (Dense)              (None, 128)               32896     \n",
      "_________________________________________________________________\n",
      "dropout_7 (Dropout)          (None, 128)               0         \n",
      "_________________________________________________________________\n",
      "dense_9 (Dense)              (None, 4)                 516       \n",
      "=================================================================\n",
      "Total params: 127,038,724\n",
      "Trainable params: 103,451,012\n",
      "Non-trainable params: 23,587,712\n",
      "_________________________________________________________________\n"
     ]
    }
   ],
   "source": [
    "#raise NotImplementedError(\"Build your model based on an architecture of your choice \"\"A sample model summary is shown below\")\n",
    "UTvgg16 = tf.keras.applications.VGG16(weights=\"imagenet\", include_top=False, input_shape = (224,224,3))\n",
    "UTvgg16.trainable=False\n",
    "model1 = tf.keras.models.Sequential()\n",
    "model1.add(UTvgg16)\n",
    "model1.add(tf.keras.layers.Flatten())\n",
    "model1.add(tf.keras.layers.Dense(1024,activation='relu'))\n",
    "model1.add(tf.keras.layers.Dropout(0.2))\n",
    "model1.add(tf.keras.layers.Dense(512,activation='relu'))\n",
    "model1.add(tf.keras.layers.Dropout(0.2))\n",
    "model1.add(tf.keras.layers.Dense(256,activation='relu'))\n",
    "model1.add(tf.keras.layers.Dropout(0.2))\n",
    "model1.add(tf.keras.layers.Dense(128,activation='relu'))\n",
    "model1.add(tf.keras.layers.Dropout(0.2))\n",
    "model1.add(tf.keras.layers.Dense(4))\n",
    "\n",
    "UTResNet = tf.keras.applications.ResNet50(input_shape=(224,224,3),include_top=False,weights='imagenet')\n",
    "UTResNet.trainable=False\n",
    "model2 = tf.keras.models.Sequential()\n",
    "model2.add(UTResNet)\n",
    "model2.add(tf.keras.layers.Flatten())\n",
    "model2.add(tf.keras.layers.Dense(1024,activation='relu'))\n",
    "model2.add(tf.keras.layers.Dropout(0.2))\n",
    "model2.add(tf.keras.layers.Dense(512,activation='relu'))\n",
    "model2.add(tf.keras.layers.Dropout(0.2))\n",
    "model2.add(tf.keras.layers.Dense(256,activation='relu'))\n",
    "model2.add(tf.keras.layers.Dropout(0.2))\n",
    "model2.add(tf.keras.layers.Dense(128,activation='relu'))\n",
    "model2.add(tf.keras.layers.Dropout(0.2))\n",
    "model2.add(tf.keras.layers.Dense(4))\n",
    "\n",
    "model1.summary()\n",
    "model2.summary()"
   ]
  },
  {
   "cell_type": "markdown",
   "metadata": {
    "nbpresent": {
     "id": "66140980-2aa4-457f-b1df-74c10c234cc2"
    }
   },
   "source": [
    "#### [5 points] Train Model"
   ]
  },
  {
   "cell_type": "code",
   "execution_count": 5,
   "metadata": {
    "nbpresent": {
     "id": "cdb90d24-6a23-4969-8138-f37e7050062d"
    }
   },
   "outputs": [
    {
     "name": "stdout",
     "output_type": "stream",
     "text": [
      "22\n",
      "6\n"
     ]
    },
    {
     "name": "stderr",
     "output_type": "stream",
     "text": [
      "C:\\Users\\Zhaoguo Zhu\\AppData\\Local\\Packages\\PythonSoftwareFoundation.Python.3.8_qbz5n2kfra8p0\\LocalCache\\local-packages\\Python38\\site-packages\\keras_preprocessing\\image\\image_data_generator.py:720: UserWarning: This ImageDataGenerator specifies `featurewise_center`, but it hasn't been fit on any training data. Fit it first by calling `.fit(numpy_data)`.\n",
      "  warnings.warn('This ImageDataGenerator specifies '\n",
      "C:\\Users\\Zhaoguo Zhu\\AppData\\Local\\Packages\\PythonSoftwareFoundation.Python.3.8_qbz5n2kfra8p0\\LocalCache\\local-packages\\Python38\\site-packages\\keras_preprocessing\\image\\image_data_generator.py:739: UserWarning: This ImageDataGenerator specifies `zca_whitening`, but it hasn't been fit on any training data. Fit it first by calling `.fit(numpy_data)`.\n",
      "  warnings.warn('This ImageDataGenerator specifies '\n"
     ]
    },
    {
     "name": "stdout",
     "output_type": "stream",
     "text": [
      "Epoch 1/100\n",
      "22/22 [==============================] - 22s 1s/step - loss: 1.5227 - accuracy: 0.3009 - val_loss: 1.4122 - val_accuracy: 0.2222\n",
      "Epoch 2/100\n",
      "22/22 [==============================] - 22s 978ms/step - loss: 1.5308 - accuracy: 0.2917 - val_loss: 1.3943 - val_accuracy: 0.3333\n",
      "Epoch 3/100\n",
      "22/22 [==============================] - 22s 996ms/step - loss: 1.3838 - accuracy: 0.3194 - val_loss: 1.2585 - val_accuracy: 0.3889\n",
      "Epoch 4/100\n",
      "22/22 [==============================] - 23s 1s/step - loss: 1.3696 - accuracy: 0.3426 - val_loss: 1.2658 - val_accuracy: 0.3704\n",
      "Epoch 5/100\n",
      "22/22 [==============================] - 23s 1s/step - loss: 1.3357 - accuracy: 0.3843 - val_loss: 1.1943 - val_accuracy: 0.4074\n",
      "Epoch 6/100\n",
      "22/22 [==============================] - 23s 1s/step - loss: 1.3251 - accuracy: 0.3796 - val_loss: 1.0922 - val_accuracy: 0.4630\n",
      "Epoch 7/100\n",
      "22/22 [==============================] - 23s 1s/step - loss: 1.2904 - accuracy: 0.3565 - val_loss: 1.0999 - val_accuracy: 0.4815\n",
      "Epoch 8/100\n",
      "22/22 [==============================] - 23s 1s/step - loss: 1.1891 - accuracy: 0.5046 - val_loss: 1.0734 - val_accuracy: 0.5370\n",
      "Epoch 9/100\n",
      "22/22 [==============================] - 23s 1s/step - loss: 1.1771 - accuracy: 0.4491 - val_loss: 0.9674 - val_accuracy: 0.5741\n",
      "Epoch 10/100\n",
      "22/22 [==============================] - 23s 1s/step - loss: 1.1635 - accuracy: 0.4491 - val_loss: 0.9564 - val_accuracy: 0.5741\n",
      "Epoch 11/100\n",
      "22/22 [==============================] - 23s 1s/step - loss: 1.2460 - accuracy: 0.3750 - val_loss: 0.9851 - val_accuracy: 0.5926\n",
      "Epoch 12/100\n",
      "22/22 [==============================] - 24s 1s/step - loss: 1.1183 - accuracy: 0.4907 - val_loss: 0.9615 - val_accuracy: 0.5185\n",
      "Epoch 13/100\n",
      "22/22 [==============================] - 23s 1s/step - loss: 1.1140 - accuracy: 0.5231 - val_loss: 0.9045 - val_accuracy: 0.6481\n",
      "Epoch 14/100\n",
      "22/22 [==============================] - 23s 1s/step - loss: 1.0970 - accuracy: 0.4676 - val_loss: 0.8653 - val_accuracy: 0.5556\n",
      "Epoch 15/100\n",
      "22/22 [==============================] - 23s 1s/step - loss: 1.0876 - accuracy: 0.5324 - val_loss: 0.8704 - val_accuracy: 0.6296\n",
      "Epoch 16/100\n",
      "22/22 [==============================] - 23s 1s/step - loss: 1.0105 - accuracy: 0.5648 - val_loss: 0.7642 - val_accuracy: 0.6667\n",
      "Epoch 17/100\n",
      "22/22 [==============================] - 23s 1s/step - loss: 1.0880 - accuracy: 0.5370 - val_loss: 0.8736 - val_accuracy: 0.6296\n",
      "Epoch 18/100\n",
      "22/22 [==============================] - 23s 1s/step - loss: 1.0571 - accuracy: 0.5185 - val_loss: 0.8383 - val_accuracy: 0.6296\n",
      "Epoch 19/100\n",
      "22/22 [==============================] - 24s 1s/step - loss: 0.9681 - accuracy: 0.5972 - val_loss: 0.9131 - val_accuracy: 0.5185\n",
      "Epoch 20/100\n",
      "22/22 [==============================] - 24s 1s/step - loss: 1.0621 - accuracy: 0.4954 - val_loss: 0.8407 - val_accuracy: 0.5926\n",
      "Epoch 21/100\n",
      "22/22 [==============================] - 23s 1s/step - loss: 0.9108 - accuracy: 0.6111 - val_loss: 0.7272 - val_accuracy: 0.6852\n",
      "Epoch 22/100\n",
      "22/22 [==============================] - 23s 1s/step - loss: 0.9728 - accuracy: 0.5556 - val_loss: 0.7359 - val_accuracy: 0.5926\n",
      "Epoch 23/100\n",
      "22/22 [==============================] - 23s 1s/step - loss: 0.8848 - accuracy: 0.6065 - val_loss: 0.8247 - val_accuracy: 0.6296\n",
      "Epoch 24/100\n",
      "22/22 [==============================] - 23s 1s/step - loss: 0.9226 - accuracy: 0.6111 - val_loss: 0.7285 - val_accuracy: 0.6852\n",
      "Epoch 25/100\n",
      "22/22 [==============================] - 23s 1s/step - loss: 0.9096 - accuracy: 0.5833 - val_loss: 0.6742 - val_accuracy: 0.6852\n",
      "Epoch 26/100\n",
      "22/22 [==============================] - 23s 1s/step - loss: 0.8452 - accuracy: 0.6296 - val_loss: 0.7144 - val_accuracy: 0.5926\n",
      "Epoch 27/100\n",
      "22/22 [==============================] - 23s 1s/step - loss: 0.8386 - accuracy: 0.6343 - val_loss: 0.6717 - val_accuracy: 0.6667\n",
      "Epoch 28/100\n",
      "22/22 [==============================] - 23s 1s/step - loss: 0.9015 - accuracy: 0.6065 - val_loss: 0.7266 - val_accuracy: 0.6481\n",
      "Epoch 29/100\n",
      "22/22 [==============================] - 24s 1s/step - loss: 0.8297 - accuracy: 0.6343 - val_loss: 0.6854 - val_accuracy: 0.6481\n",
      "Epoch 30/100\n",
      "22/22 [==============================] - 23s 1s/step - loss: 0.8012 - accuracy: 0.6574 - val_loss: 0.7920 - val_accuracy: 0.6481\n",
      "Epoch 31/100\n",
      "22/22 [==============================] - 23s 1s/step - loss: 0.8285 - accuracy: 0.6250 - val_loss: 0.7520 - val_accuracy: 0.6481\n",
      "Epoch 32/100\n",
      "22/22 [==============================] - 23s 1s/step - loss: 0.8510 - accuracy: 0.6435 - val_loss: 0.7562 - val_accuracy: 0.5926\n",
      "Epoch 33/100\n",
      "22/22 [==============================] - 23s 1s/step - loss: 0.8855 - accuracy: 0.5787 - val_loss: 0.8539 - val_accuracy: 0.5556\n",
      "Epoch 34/100\n",
      "22/22 [==============================] - 23s 1s/step - loss: 0.8313 - accuracy: 0.6667 - val_loss: 0.7085 - val_accuracy: 0.7037\n",
      "Epoch 35/100\n",
      "22/22 [==============================] - 23s 1s/step - loss: 0.8190 - accuracy: 0.6343 - val_loss: 0.6685 - val_accuracy: 0.7407\n",
      "Epoch 36/100\n",
      "22/22 [==============================] - 23s 1s/step - loss: 0.8264 - accuracy: 0.6065 - val_loss: 0.6132 - val_accuracy: 0.7222\n",
      "Epoch 37/100\n",
      "22/22 [==============================] - 23s 1s/step - loss: 0.7697 - accuracy: 0.6157 - val_loss: 0.6683 - val_accuracy: 0.6852\n",
      "Epoch 38/100\n",
      "22/22 [==============================] - 23s 1s/step - loss: 0.7770 - accuracy: 0.6389 - val_loss: 0.6637 - val_accuracy: 0.6667\n",
      "Epoch 39/100\n",
      "22/22 [==============================] - 23s 1s/step - loss: 0.7856 - accuracy: 0.6435 - val_loss: 0.5708 - val_accuracy: 0.6852\n",
      "Epoch 40/100\n",
      "22/22 [==============================] - 23s 1s/step - loss: 0.7754 - accuracy: 0.6435 - val_loss: 0.7308 - val_accuracy: 0.6111\n",
      "Epoch 41/100\n",
      "22/22 [==============================] - 23s 1s/step - loss: 0.7527 - accuracy: 0.6250 - val_loss: 0.7201 - val_accuracy: 0.6296\n",
      "Epoch 42/100\n",
      "22/22 [==============================] - 23s 1s/step - loss: 0.7093 - accuracy: 0.7222 - val_loss: 0.5480 - val_accuracy: 0.7037\n",
      "Epoch 43/100\n",
      "22/22 [==============================] - 23s 1s/step - loss: 0.7070 - accuracy: 0.6667 - val_loss: 0.7157 - val_accuracy: 0.6667\n",
      "Epoch 44/100\n",
      "22/22 [==============================] - 23s 1s/step - loss: 0.7970 - accuracy: 0.6019 - val_loss: 0.5945 - val_accuracy: 0.6667\n",
      "Epoch 45/100\n",
      "22/22 [==============================] - 23s 1s/step - loss: 0.7864 - accuracy: 0.6389 - val_loss: 0.5895 - val_accuracy: 0.7037\n",
      "Epoch 46/100\n",
      "22/22 [==============================] - 23s 1s/step - loss: 0.8035 - accuracy: 0.6019 - val_loss: 0.6050 - val_accuracy: 0.7222\n",
      "Epoch 47/100\n",
      "22/22 [==============================] - 23s 1s/step - loss: 0.7549 - accuracy: 0.6481 - val_loss: 0.6322 - val_accuracy: 0.7222\n",
      "Epoch 48/100\n",
      "22/22 [==============================] - 23s 1s/step - loss: 0.7408 - accuracy: 0.6991 - val_loss: 0.6529 - val_accuracy: 0.7222\n",
      "Epoch 49/100\n",
      "22/22 [==============================] - 23s 1s/step - loss: 0.7045 - accuracy: 0.6898 - val_loss: 0.4595 - val_accuracy: 0.7407\n",
      "Epoch 50/100\n",
      "22/22 [==============================] - 23s 1s/step - loss: 0.7135 - accuracy: 0.7037 - val_loss: 0.6321 - val_accuracy: 0.6852\n",
      "Epoch 51/100\n",
      "22/22 [==============================] - 24s 1s/step - loss: 0.7033 - accuracy: 0.6898 - val_loss: 0.7245 - val_accuracy: 0.7037\n",
      "Epoch 52/100\n",
      "22/22 [==============================] - 24s 1s/step - loss: 0.6703 - accuracy: 0.6991 - val_loss: 0.6693 - val_accuracy: 0.6852\n",
      "Epoch 53/100\n",
      "22/22 [==============================] - 23s 1s/step - loss: 0.6286 - accuracy: 0.7315 - val_loss: 0.6901 - val_accuracy: 0.6481\n",
      "Epoch 54/100\n",
      "22/22 [==============================] - 23s 1s/step - loss: 0.7718 - accuracy: 0.6528 - val_loss: 0.5748 - val_accuracy: 0.7037\n",
      "Epoch 55/100\n",
      "22/22 [==============================] - 23s 1s/step - loss: 0.7246 - accuracy: 0.6713 - val_loss: 0.6241 - val_accuracy: 0.6481\n",
      "Epoch 56/100\n",
      "22/22 [==============================] - 23s 1s/step - loss: 0.7616 - accuracy: 0.6852 - val_loss: 0.5473 - val_accuracy: 0.7407\n",
      "Epoch 57/100\n",
      "22/22 [==============================] - 23s 1s/step - loss: 0.6988 - accuracy: 0.6759 - val_loss: 0.6493 - val_accuracy: 0.7407\n",
      "Epoch 58/100\n",
      "22/22 [==============================] - 23s 1s/step - loss: 0.6753 - accuracy: 0.6898 - val_loss: 0.7649 - val_accuracy: 0.6481\n"
     ]
    },
    {
     "name": "stdout",
     "output_type": "stream",
     "text": [
      "Epoch 59/100\n",
      "22/22 [==============================] - 23s 1s/step - loss: 0.7202 - accuracy: 0.6435 - val_loss: 0.6299 - val_accuracy: 0.7222\n",
      "Epoch 60/100\n",
      "22/22 [==============================] - 23s 1s/step - loss: 0.6682 - accuracy: 0.6898 - val_loss: 0.7273 - val_accuracy: 0.6667\n",
      "Epoch 61/100\n",
      "22/22 [==============================] - 23s 1s/step - loss: 0.7361 - accuracy: 0.6528 - val_loss: 0.6635 - val_accuracy: 0.7037\n",
      "Epoch 62/100\n",
      "22/22 [==============================] - 23s 1s/step - loss: 0.6773 - accuracy: 0.7083 - val_loss: 0.6526 - val_accuracy: 0.6296\n",
      "Epoch 63/100\n",
      "22/22 [==============================] - 24s 1s/step - loss: 0.7143 - accuracy: 0.6574 - val_loss: 0.6105 - val_accuracy: 0.7222\n",
      "Epoch 64/100\n",
      "22/22 [==============================] - 23s 1s/step - loss: 0.7557 - accuracy: 0.6620 - val_loss: 0.6370 - val_accuracy: 0.6111\n",
      "Epoch 65/100\n",
      "22/22 [==============================] - 23s 1s/step - loss: 0.6206 - accuracy: 0.7130 - val_loss: 0.5321 - val_accuracy: 0.7407\n",
      "Epoch 66/100\n",
      "22/22 [==============================] - 24s 1s/step - loss: 0.6455 - accuracy: 0.7176 - val_loss: 0.8011 - val_accuracy: 0.6296\n",
      "Epoch 67/100\n",
      "22/22 [==============================] - 24s 1s/step - loss: 0.7124 - accuracy: 0.6898 - val_loss: 0.6281 - val_accuracy: 0.7222\n",
      "Epoch 68/100\n",
      "22/22 [==============================] - 23s 1s/step - loss: 0.6505 - accuracy: 0.7269 - val_loss: 0.5721 - val_accuracy: 0.7407\n",
      "Epoch 69/100\n",
      "22/22 [==============================] - 23s 1s/step - loss: 0.6809 - accuracy: 0.6852 - val_loss: 0.6454 - val_accuracy: 0.6296\n",
      "Epoch 70/100\n",
      "22/22 [==============================] - 24s 1s/step - loss: 0.6667 - accuracy: 0.6898 - val_loss: 0.5523 - val_accuracy: 0.7037\n",
      "Epoch 71/100\n",
      "22/22 [==============================] - 23s 1s/step - loss: 0.6309 - accuracy: 0.7176 - val_loss: 0.5878 - val_accuracy: 0.7037\n",
      "Epoch 72/100\n",
      "22/22 [==============================] - 23s 1s/step - loss: 0.6455 - accuracy: 0.7222 - val_loss: 0.6003 - val_accuracy: 0.6852\n",
      "Epoch 73/100\n",
      "22/22 [==============================] - 23s 1s/step - loss: 0.6312 - accuracy: 0.7222 - val_loss: 0.6505 - val_accuracy: 0.6852\n",
      "Epoch 74/100\n",
      "22/22 [==============================] - 23s 1s/step - loss: 0.6601 - accuracy: 0.7130 - val_loss: 0.6626 - val_accuracy: 0.6481\n",
      "Epoch 75/100\n",
      "22/22 [==============================] - 23s 1s/step - loss: 0.6110 - accuracy: 0.7083 - val_loss: 0.7224 - val_accuracy: 0.6111\n",
      "Epoch 76/100\n",
      "22/22 [==============================] - 23s 1s/step - loss: 0.7043 - accuracy: 0.6806 - val_loss: 0.6762 - val_accuracy: 0.6852\n",
      "Epoch 77/100\n",
      "22/22 [==============================] - 23s 1s/step - loss: 0.6797 - accuracy: 0.6944 - val_loss: 0.6910 - val_accuracy: 0.5926\n",
      "Epoch 78/100\n",
      "22/22 [==============================] - 23s 1s/step - loss: 0.6495 - accuracy: 0.7176 - val_loss: 0.6183 - val_accuracy: 0.6852\n",
      "Epoch 79/100\n",
      "22/22 [==============================] - 23s 1s/step - loss: 0.6956 - accuracy: 0.6944 - val_loss: 0.5238 - val_accuracy: 0.7778\n",
      "Epoch 80/100\n",
      "22/22 [==============================] - 23s 1s/step - loss: 0.5993 - accuracy: 0.7407 - val_loss: 0.6019 - val_accuracy: 0.7222\n",
      "Epoch 81/100\n",
      "22/22 [==============================] - 23s 1s/step - loss: 0.6544 - accuracy: 0.7037 - val_loss: 0.5270 - val_accuracy: 0.7593\n",
      "Epoch 82/100\n",
      "22/22 [==============================] - 23s 1s/step - loss: 0.6046 - accuracy: 0.7361 - val_loss: 0.6953 - val_accuracy: 0.6852\n",
      "Epoch 83/100\n",
      "22/22 [==============================] - 23s 1s/step - loss: 0.6275 - accuracy: 0.7130 - val_loss: 0.7254 - val_accuracy: 0.6667\n",
      "Epoch 84/100\n",
      "22/22 [==============================] - 23s 1s/step - loss: 0.6494 - accuracy: 0.7083 - val_loss: 0.6372 - val_accuracy: 0.6111\n",
      "Epoch 85/100\n",
      "22/22 [==============================] - 23s 1s/step - loss: 0.6027 - accuracy: 0.7222 - val_loss: 0.6079 - val_accuracy: 0.6296\n",
      "Epoch 86/100\n",
      "22/22 [==============================] - 23s 1s/step - loss: 0.6603 - accuracy: 0.6713 - val_loss: 0.5575 - val_accuracy: 0.6852\n",
      "Epoch 87/100\n",
      "22/22 [==============================] - 23s 1s/step - loss: 0.6504 - accuracy: 0.7593 - val_loss: 0.5905 - val_accuracy: 0.7222\n",
      "Epoch 88/100\n",
      "22/22 [==============================] - 23s 1s/step - loss: 0.5583 - accuracy: 0.7639 - val_loss: 0.5529 - val_accuracy: 0.6667\n",
      "Epoch 89/100\n",
      "22/22 [==============================] - 23s 1s/step - loss: 0.6303 - accuracy: 0.7315 - val_loss: 0.6801 - val_accuracy: 0.6111\n",
      "Epoch 90/100\n",
      "22/22 [==============================] - 24s 1s/step - loss: 0.5619 - accuracy: 0.7361 - val_loss: 0.6013 - val_accuracy: 0.6852\n",
      "Epoch 91/100\n",
      "22/22 [==============================] - 23s 1s/step - loss: 0.6156 - accuracy: 0.7269 - val_loss: 0.6391 - val_accuracy: 0.6667\n",
      "Epoch 92/100\n",
      "22/22 [==============================] - 23s 1s/step - loss: 0.6169 - accuracy: 0.7269 - val_loss: 0.6848 - val_accuracy: 0.6481\n",
      "Epoch 93/100\n",
      "22/22 [==============================] - 23s 1s/step - loss: 0.6203 - accuracy: 0.7361 - val_loss: 0.6297 - val_accuracy: 0.7037\n",
      "Epoch 94/100\n",
      "22/22 [==============================] - 23s 1s/step - loss: 0.5665 - accuracy: 0.7454 - val_loss: 0.5455 - val_accuracy: 0.7037\n",
      "Epoch 95/100\n",
      "22/22 [==============================] - 23s 1s/step - loss: 0.6003 - accuracy: 0.7361 - val_loss: 0.5804 - val_accuracy: 0.7037\n",
      "Epoch 96/100\n",
      "22/22 [==============================] - 23s 1s/step - loss: 0.7091 - accuracy: 0.6944 - val_loss: 0.4962 - val_accuracy: 0.7963\n",
      "Epoch 97/100\n",
      "22/22 [==============================] - 23s 1s/step - loss: 0.6618 - accuracy: 0.7685 - val_loss: 0.5993 - val_accuracy: 0.7037\n",
      "Epoch 98/100\n",
      "22/22 [==============================] - 23s 1s/step - loss: 0.5997 - accuracy: 0.7407 - val_loss: 0.6624 - val_accuracy: 0.6111\n",
      "Epoch 99/100\n",
      "22/22 [==============================] - 23s 1s/step - loss: 0.5584 - accuracy: 0.7500 - val_loss: 0.5305 - val_accuracy: 0.7407\n",
      "Epoch 100/100\n",
      "22/22 [==============================] - 23s 1s/step - loss: 0.5944 - accuracy: 0.7176 - val_loss: 0.5003 - val_accuracy: 0.7778\n"
     ]
    }
   ],
   "source": [
    "#FIT MODEL\n",
    "print(len(train_batches))\n",
    "print(len(valid_batches))\n",
    "\n",
    "STEP_SIZE_TRAIN=train_batches.n//train_batches.batch_size\n",
    "STEP_SIZE_VALID=valid_batches.n//valid_batches.batch_size\n",
    "\n",
    "#raise NotImplementedError(\"Use the model.fit function to train your network\")\n",
    "Opt = tf.keras.optimizers.Adam(learning_rate=LEARNING_RATE)\n",
    "Los = tf.keras.losses.CategoricalCrossentropy(from_logits=True)\n",
    "model1.compile(optimizer = Opt, loss=Los, metrics=['accuracy'])\n",
    "model2.compile(optimizer = Opt, loss=Los, metrics=['accuracy'])\n",
    "\n",
    "history1 = model1.fit(train_batches, validation_data = valid_batches, epochs = NUM_EPOCHS, batch_size = BATCH_SIZE)"
   ]
  },
  {
   "cell_type": "code",
   "execution_count": 6,
   "metadata": {},
   "outputs": [
    {
     "name": "stdout",
     "output_type": "stream",
     "text": [
      "Epoch 1/100\n",
      "22/22 [==============================] - 17s 793ms/step - loss: 4.8344 - accuracy: 0.2083 - val_loss: 2.7818 - val_accuracy: 0.2222\n",
      "Epoch 2/100\n",
      "22/22 [==============================] - 16s 738ms/step - loss: 3.5126 - accuracy: 0.2546 - val_loss: 1.5822 - val_accuracy: 0.2593\n",
      "Epoch 3/100\n",
      "22/22 [==============================] - 16s 737ms/step - loss: 2.3213 - accuracy: 0.2037 - val_loss: 1.4148 - val_accuracy: 0.2593\n",
      "Epoch 4/100\n",
      "22/22 [==============================] - 16s 743ms/step - loss: 1.7146 - accuracy: 0.2593 - val_loss: 1.4983 - val_accuracy: 0.2222\n",
      "Epoch 5/100\n",
      "22/22 [==============================] - 16s 739ms/step - loss: 1.7539 - accuracy: 0.2639 - val_loss: 1.3841 - val_accuracy: 0.2963\n",
      "Epoch 6/100\n",
      "22/22 [==============================] - 16s 741ms/step - loss: 1.6327 - accuracy: 0.2824 - val_loss: 1.3861 - val_accuracy: 0.2593\n",
      "Epoch 7/100\n",
      "22/22 [==============================] - 16s 736ms/step - loss: 1.5374 - accuracy: 0.2685 - val_loss: 1.3903 - val_accuracy: 0.2593\n",
      "Epoch 8/100\n",
      "22/22 [==============================] - 16s 737ms/step - loss: 1.5190 - accuracy: 0.2500 - val_loss: 1.4015 - val_accuracy: 0.2593\n",
      "Epoch 9/100\n",
      "22/22 [==============================] - 16s 737ms/step - loss: 1.4757 - accuracy: 0.2454 - val_loss: 1.3936 - val_accuracy: 0.2963\n",
      "Epoch 10/100\n",
      "22/22 [==============================] - 16s 744ms/step - loss: 1.4330 - accuracy: 0.2685 - val_loss: 1.3921 - val_accuracy: 0.2593\n",
      "Epoch 11/100\n",
      "22/22 [==============================] - 16s 735ms/step - loss: 1.4250 - accuracy: 0.2176 - val_loss: 1.3817 - val_accuracy: 0.2593\n",
      "Epoch 12/100\n",
      "22/22 [==============================] - 16s 735ms/step - loss: 1.4383 - accuracy: 0.2454 - val_loss: 1.3853 - val_accuracy: 0.2593\n",
      "Epoch 13/100\n",
      "22/22 [==============================] - 16s 737ms/step - loss: 1.4345 - accuracy: 0.2083 - val_loss: 1.3789 - val_accuracy: 0.3148\n",
      "Epoch 14/100\n",
      "22/22 [==============================] - 16s 740ms/step - loss: 1.4055 - accuracy: 0.2546 - val_loss: 1.3780 - val_accuracy: 0.2593\n",
      "Epoch 15/100\n",
      "22/22 [==============================] - 16s 740ms/step - loss: 1.4099 - accuracy: 0.2639 - val_loss: 1.3884 - val_accuracy: 0.2593\n",
      "Epoch 16/100\n",
      "22/22 [==============================] - 16s 741ms/step - loss: 1.4298 - accuracy: 0.2500 - val_loss: 1.3923 - val_accuracy: 0.2222\n",
      "Epoch 17/100\n",
      "22/22 [==============================] - 16s 741ms/step - loss: 1.4189 - accuracy: 0.1991 - val_loss: 1.3835 - val_accuracy: 0.2778\n",
      "Epoch 18/100\n",
      "22/22 [==============================] - 16s 735ms/step - loss: 1.4152 - accuracy: 0.2731 - val_loss: 1.3853 - val_accuracy: 0.2407\n",
      "Epoch 19/100\n",
      "22/22 [==============================] - 16s 740ms/step - loss: 1.3977 - accuracy: 0.2593 - val_loss: 1.3832 - val_accuracy: 0.2778\n",
      "Epoch 20/100\n",
      "22/22 [==============================] - 16s 735ms/step - loss: 1.3977 - accuracy: 0.2176 - val_loss: 1.3844 - val_accuracy: 0.2963\n",
      "Epoch 21/100\n",
      "22/22 [==============================] - 16s 737ms/step - loss: 1.3997 - accuracy: 0.2361 - val_loss: 1.3824 - val_accuracy: 0.2593\n",
      "Epoch 22/100\n",
      "22/22 [==============================] - 16s 739ms/step - loss: 1.3865 - accuracy: 0.2315 - val_loss: 1.3850 - val_accuracy: 0.2963\n",
      "Epoch 23/100\n",
      "22/22 [==============================] - 16s 736ms/step - loss: 1.3917 - accuracy: 0.2500 - val_loss: 1.3764 - val_accuracy: 0.3333\n",
      "Epoch 24/100\n",
      "22/22 [==============================] - 16s 737ms/step - loss: 1.3766 - accuracy: 0.2546 - val_loss: 1.3816 - val_accuracy: 0.3519\n",
      "Epoch 25/100\n",
      "22/22 [==============================] - 16s 739ms/step - loss: 1.3942 - accuracy: 0.2407 - val_loss: 1.3878 - val_accuracy: 0.2222\n",
      "Epoch 26/100\n",
      "22/22 [==============================] - 16s 738ms/step - loss: 1.3883 - accuracy: 0.2824 - val_loss: 1.3821 - val_accuracy: 0.2778\n",
      "Epoch 27/100\n",
      "22/22 [==============================] - 16s 745ms/step - loss: 1.3885 - accuracy: 0.2778 - val_loss: 1.3852 - val_accuracy: 0.3333\n",
      "Epoch 28/100\n",
      "22/22 [==============================] - 16s 736ms/step - loss: 1.3751 - accuracy: 0.3380 - val_loss: 1.3858 - val_accuracy: 0.3148\n",
      "Epoch 29/100\n",
      "22/22 [==============================] - 16s 740ms/step - loss: 1.3727 - accuracy: 0.2824 - val_loss: 1.3897 - val_accuracy: 0.2963\n",
      "Epoch 30/100\n",
      "22/22 [==============================] - 16s 736ms/step - loss: 1.3895 - accuracy: 0.2824 - val_loss: 1.3879 - val_accuracy: 0.2593\n",
      "Epoch 31/100\n",
      "22/22 [==============================] - 16s 739ms/step - loss: 1.3810 - accuracy: 0.2685 - val_loss: 1.3849 - val_accuracy: 0.2222\n",
      "Epoch 32/100\n",
      "22/22 [==============================] - 16s 738ms/step - loss: 1.3913 - accuracy: 0.2315 - val_loss: 1.3787 - val_accuracy: 0.3148\n",
      "Epoch 33/100\n",
      "22/22 [==============================] - 16s 737ms/step - loss: 1.3810 - accuracy: 0.2546 - val_loss: 1.3854 - val_accuracy: 0.2593\n",
      "Epoch 34/100\n",
      "22/22 [==============================] - 16s 743ms/step - loss: 1.3906 - accuracy: 0.2546 - val_loss: 1.3821 - val_accuracy: 0.2593\n",
      "Epoch 35/100\n",
      "22/22 [==============================] - 16s 742ms/step - loss: 1.3890 - accuracy: 0.2454 - val_loss: 1.3852 - val_accuracy: 0.2778\n",
      "Epoch 36/100\n",
      "22/22 [==============================] - 16s 735ms/step - loss: 1.3842 - accuracy: 0.2778 - val_loss: 1.3834 - val_accuracy: 0.2593\n",
      "Epoch 37/100\n",
      "22/22 [==============================] - 16s 738ms/step - loss: 1.3856 - accuracy: 0.2870 - val_loss: 1.3837 - val_accuracy: 0.2778\n",
      "Epoch 38/100\n",
      "22/22 [==============================] - 16s 737ms/step - loss: 1.3838 - accuracy: 0.3102 - val_loss: 1.3838 - val_accuracy: 0.2778\n",
      "Epoch 39/100\n",
      "22/22 [==============================] - 16s 737ms/step - loss: 1.3894 - accuracy: 0.2593 - val_loss: 1.3854 - val_accuracy: 0.2778\n",
      "Epoch 40/100\n",
      "22/22 [==============================] - 16s 736ms/step - loss: 1.3913 - accuracy: 0.2870 - val_loss: 1.3851 - val_accuracy: 0.2593\n",
      "Epoch 41/100\n",
      "22/22 [==============================] - 16s 740ms/step - loss: 1.3880 - accuracy: 0.3009 - val_loss: 1.3812 - val_accuracy: 0.3333\n",
      "Epoch 42/100\n",
      "22/22 [==============================] - 16s 734ms/step - loss: 1.3851 - accuracy: 0.2963 - val_loss: 1.3831 - val_accuracy: 0.2593\n",
      "Epoch 43/100\n",
      "22/22 [==============================] - 16s 736ms/step - loss: 1.3904 - accuracy: 0.2639 - val_loss: 1.3846 - val_accuracy: 0.2593\n",
      "Epoch 44/100\n",
      "22/22 [==============================] - 16s 732ms/step - loss: 1.3862 - accuracy: 0.2917 - val_loss: 1.3852 - val_accuracy: 0.2963\n",
      "Epoch 45/100\n",
      "22/22 [==============================] - 16s 739ms/step - loss: 1.3878 - accuracy: 0.2685 - val_loss: 1.3858 - val_accuracy: 0.2593\n",
      "Epoch 46/100\n",
      "22/22 [==============================] - 16s 739ms/step - loss: 1.3874 - accuracy: 0.2731 - val_loss: 1.3835 - val_accuracy: 0.2778\n",
      "Epoch 47/100\n",
      "22/22 [==============================] - 16s 738ms/step - loss: 1.3860 - accuracy: 0.2824 - val_loss: 1.3842 - val_accuracy: 0.3148\n",
      "Epoch 48/100\n",
      "22/22 [==============================] - 16s 736ms/step - loss: 1.3850 - accuracy: 0.2685 - val_loss: 1.3861 - val_accuracy: 0.2593\n",
      "Epoch 49/100\n",
      "22/22 [==============================] - 16s 739ms/step - loss: 1.3857 - accuracy: 0.2593 - val_loss: 1.3853 - val_accuracy: 0.3148\n",
      "Epoch 50/100\n",
      "22/22 [==============================] - 16s 740ms/step - loss: 1.3859 - accuracy: 0.2778 - val_loss: 1.3856 - val_accuracy: 0.2407\n",
      "Epoch 51/100\n",
      "22/22 [==============================] - 16s 739ms/step - loss: 1.3836 - accuracy: 0.3148 - val_loss: 1.3833 - val_accuracy: 0.3333\n",
      "Epoch 52/100\n",
      "22/22 [==============================] - 16s 738ms/step - loss: 1.3712 - accuracy: 0.3009 - val_loss: 1.3907 - val_accuracy: 0.2593\n",
      "Epoch 53/100\n",
      "22/22 [==============================] - 16s 740ms/step - loss: 1.3856 - accuracy: 0.2824 - val_loss: 1.3781 - val_accuracy: 0.2963\n",
      "Epoch 54/100\n",
      "22/22 [==============================] - 16s 738ms/step - loss: 1.3849 - accuracy: 0.3287 - val_loss: 1.3847 - val_accuracy: 0.2593\n",
      "Epoch 55/100\n",
      "22/22 [==============================] - 16s 735ms/step - loss: 1.3817 - accuracy: 0.3102 - val_loss: 1.3867 - val_accuracy: 0.3519\n",
      "Epoch 56/100\n",
      "22/22 [==============================] - 16s 742ms/step - loss: 1.3853 - accuracy: 0.2685 - val_loss: 1.3826 - val_accuracy: 0.3889\n",
      "Epoch 57/100\n"
     ]
    },
    {
     "name": "stdout",
     "output_type": "stream",
     "text": [
      "22/22 [==============================] - 16s 739ms/step - loss: 1.3817 - accuracy: 0.2778 - val_loss: 1.3816 - val_accuracy: 0.2963\n",
      "Epoch 58/100\n",
      "22/22 [==============================] - 16s 741ms/step - loss: 1.3836 - accuracy: 0.3009 - val_loss: 1.3800 - val_accuracy: 0.3148\n",
      "Epoch 59/100\n",
      "22/22 [==============================] - 16s 739ms/step - loss: 1.3829 - accuracy: 0.2685 - val_loss: 1.3812 - val_accuracy: 0.2407\n",
      "Epoch 60/100\n",
      "22/22 [==============================] - 16s 739ms/step - loss: 1.3857 - accuracy: 0.2176 - val_loss: 1.3775 - val_accuracy: 0.2593\n",
      "Epoch 61/100\n",
      "22/22 [==============================] - 16s 735ms/step - loss: 1.3841 - accuracy: 0.3148 - val_loss: 1.3765 - val_accuracy: 0.3519\n",
      "Epoch 62/100\n",
      "22/22 [==============================] - 17s 753ms/step - loss: 1.3822 - accuracy: 0.2546 - val_loss: 1.3863 - val_accuracy: 0.2037\n",
      "Epoch 63/100\n",
      "22/22 [==============================] - 16s 747ms/step - loss: 1.3868 - accuracy: 0.2361 - val_loss: 1.3839 - val_accuracy: 0.2407\n",
      "Epoch 64/100\n",
      "22/22 [==============================] - 16s 735ms/step - loss: 1.3898 - accuracy: 0.2546 - val_loss: 1.3857 - val_accuracy: 0.3333\n",
      "Epoch 65/100\n",
      "22/22 [==============================] - 16s 740ms/step - loss: 1.3836 - accuracy: 0.2963 - val_loss: 1.3753 - val_accuracy: 0.3148\n",
      "Epoch 66/100\n",
      "22/22 [==============================] - 16s 736ms/step - loss: 1.3797 - accuracy: 0.2778 - val_loss: 1.3836 - val_accuracy: 0.2222\n",
      "Epoch 67/100\n",
      "22/22 [==============================] - 16s 740ms/step - loss: 1.3868 - accuracy: 0.2685 - val_loss: 1.3824 - val_accuracy: 0.2963\n",
      "Epoch 68/100\n",
      "22/22 [==============================] - 16s 736ms/step - loss: 1.3848 - accuracy: 0.2407 - val_loss: 1.3817 - val_accuracy: 0.2593\n",
      "Epoch 69/100\n",
      "22/22 [==============================] - 16s 734ms/step - loss: 1.3780 - accuracy: 0.3287 - val_loss: 1.3862 - val_accuracy: 0.2593\n",
      "Epoch 70/100\n",
      "22/22 [==============================] - 16s 739ms/step - loss: 1.3816 - accuracy: 0.2685 - val_loss: 1.3686 - val_accuracy: 0.2407\n",
      "Epoch 71/100\n",
      "22/22 [==============================] - 16s 739ms/step - loss: 1.4074 - accuracy: 0.2500 - val_loss: 1.3843 - val_accuracy: 0.2222\n",
      "Epoch 72/100\n",
      "22/22 [==============================] - 16s 741ms/step - loss: 1.3778 - accuracy: 0.3148 - val_loss: 1.3863 - val_accuracy: 0.2778\n",
      "Epoch 73/100\n",
      "22/22 [==============================] - 16s 742ms/step - loss: 1.3871 - accuracy: 0.2546 - val_loss: 1.3850 - val_accuracy: 0.2407\n",
      "Epoch 74/100\n",
      "22/22 [==============================] - 16s 738ms/step - loss: 1.3851 - accuracy: 0.2593 - val_loss: 1.3779 - val_accuracy: 0.3889\n",
      "Epoch 75/100\n",
      "22/22 [==============================] - 16s 736ms/step - loss: 1.3793 - accuracy: 0.3009 - val_loss: 1.3815 - val_accuracy: 0.2593\n",
      "Epoch 76/100\n",
      "22/22 [==============================] - 16s 739ms/step - loss: 1.3778 - accuracy: 0.2778 - val_loss: 1.3702 - val_accuracy: 0.2778\n",
      "Epoch 77/100\n",
      "22/22 [==============================] - 17s 755ms/step - loss: 1.3812 - accuracy: 0.3148 - val_loss: 1.3666 - val_accuracy: 0.4444\n",
      "Epoch 78/100\n",
      "22/22 [==============================] - 17s 755ms/step - loss: 1.3791 - accuracy: 0.2963 - val_loss: 1.3740 - val_accuracy: 0.2222\n",
      "Epoch 79/100\n",
      "22/22 [==============================] - 16s 735ms/step - loss: 1.3670 - accuracy: 0.3102 - val_loss: 1.3729 - val_accuracy: 0.3333\n",
      "Epoch 80/100\n",
      "22/22 [==============================] - 16s 735ms/step - loss: 1.3811 - accuracy: 0.2685 - val_loss: 1.3865 - val_accuracy: 0.2407\n",
      "Epoch 81/100\n",
      "22/22 [==============================] - 16s 736ms/step - loss: 1.3875 - accuracy: 0.2639 - val_loss: 1.3809 - val_accuracy: 0.2963\n",
      "Epoch 82/100\n",
      "22/22 [==============================] - 16s 738ms/step - loss: 1.3839 - accuracy: 0.2685 - val_loss: 1.3858 - val_accuracy: 0.3148\n",
      "Epoch 83/100\n",
      "22/22 [==============================] - 16s 746ms/step - loss: 1.3810 - accuracy: 0.3009 - val_loss: 1.3792 - val_accuracy: 0.3333\n",
      "Epoch 84/100\n",
      "22/22 [==============================] - 16s 743ms/step - loss: 1.3961 - accuracy: 0.2963 - val_loss: 1.3849 - val_accuracy: 0.3148\n",
      "Epoch 85/100\n",
      "22/22 [==============================] - 16s 739ms/step - loss: 1.3848 - accuracy: 0.2824 - val_loss: 1.3858 - val_accuracy: 0.2407\n",
      "Epoch 86/100\n",
      "22/22 [==============================] - 16s 737ms/step - loss: 1.3822 - accuracy: 0.2685 - val_loss: 1.3842 - val_accuracy: 0.2778\n",
      "Epoch 87/100\n",
      "22/22 [==============================] - 16s 741ms/step - loss: 1.3766 - accuracy: 0.2963 - val_loss: 1.3812 - val_accuracy: 0.2593\n",
      "Epoch 88/100\n",
      "22/22 [==============================] - 16s 737ms/step - loss: 1.3871 - accuracy: 0.2639 - val_loss: 1.3843 - val_accuracy: 0.2407\n",
      "Epoch 89/100\n",
      "22/22 [==============================] - 16s 737ms/step - loss: 1.3829 - accuracy: 0.3056 - val_loss: 1.3861 - val_accuracy: 0.2778\n",
      "Epoch 90/100\n",
      "22/22 [==============================] - 16s 739ms/step - loss: 1.3845 - accuracy: 0.2824 - val_loss: 1.3815 - val_accuracy: 0.2593\n",
      "Epoch 91/100\n",
      "22/22 [==============================] - 16s 737ms/step - loss: 1.3880 - accuracy: 0.2454 - val_loss: 1.3786 - val_accuracy: 0.3148\n",
      "Epoch 92/100\n",
      "22/22 [==============================] - 16s 736ms/step - loss: 1.3977 - accuracy: 0.2407 - val_loss: 1.3870 - val_accuracy: 0.2222\n",
      "Epoch 93/100\n",
      "22/22 [==============================] - 16s 736ms/step - loss: 1.3848 - accuracy: 0.2685 - val_loss: 1.3834 - val_accuracy: 0.3148\n",
      "Epoch 94/100\n",
      "22/22 [==============================] - 16s 735ms/step - loss: 1.3835 - accuracy: 0.2778 - val_loss: 1.3831 - val_accuracy: 0.2593\n",
      "Epoch 95/100\n",
      "22/22 [==============================] - 16s 744ms/step - loss: 1.3825 - accuracy: 0.2824 - val_loss: 1.3873 - val_accuracy: 0.2593\n",
      "Epoch 96/100\n",
      "22/22 [==============================] - 16s 744ms/step - loss: 1.3822 - accuracy: 0.3056 - val_loss: 1.3828 - val_accuracy: 0.3148\n",
      "Epoch 97/100\n",
      "22/22 [==============================] - 17s 755ms/step - loss: 1.3729 - accuracy: 0.3194 - val_loss: 1.3753 - val_accuracy: 0.2778\n",
      "Epoch 98/100\n",
      "22/22 [==============================] - 16s 744ms/step - loss: 1.3728 - accuracy: 0.3380 - val_loss: 1.3670 - val_accuracy: 0.3704\n",
      "Epoch 99/100\n",
      "22/22 [==============================] - 16s 745ms/step - loss: 1.3669 - accuracy: 0.3426 - val_loss: 1.3532 - val_accuracy: 0.3519\n",
      "Epoch 100/100\n",
      "22/22 [==============================] - 16s 738ms/step - loss: 1.3607 - accuracy: 0.3611 - val_loss: 1.3725 - val_accuracy: 0.2778\n"
     ]
    }
   ],
   "source": [
    "history2 = model2.fit(train_batches, validation_data = valid_batches, epochs = NUM_EPOCHS, batch_size = BATCH_SIZE)\n"
   ]
  },
  {
   "cell_type": "markdown",
   "metadata": {
    "nbpresent": {
     "id": "66140980-2aa4-457f-b1df-74c10c234cc2"
    }
   },
   "source": [
    "#### [5 points] Plot Accuracy and Loss During Training"
   ]
  },
  {
   "cell_type": "code",
   "execution_count": 15,
   "metadata": {
    "nbpresent": {
     "id": "ff342098-784a-4e20-ac34-b74ca8ebe839"
    }
   },
   "outputs": [
    {
     "data": {
      "image/png": "[encoded data removed]",
      "text/plain": [
       "<Figure size 432x288 with 1 Axes>"
      ]
     },
     "metadata": {
      "needs_background": "light"
     },
     "output_type": "display_data"
    }
   ],
   "source": [
    "import matplotlib.pyplot as plt\n",
    "\n",
    "#raise NotImplementedError(\"Plot the accuracy and the loss during training\")\n",
    "\n",
    "plt.plot(history1.history['accuracy'], label='accuracy')\n",
    "plt.plot(history1.history['val_accuracy'], label = 'val_accuracy')\n",
    "plt.title(\"AGG16 Accuracy over epochs\")\n",
    "plt.xlabel('Epoch')\n",
    "plt.ylabel('Accuracy')\n",
    "plt.ylim([0, 1])\n",
    "plt.legend(loc='lower right')\n",
    "plt.grid(True)"
   ]
  },
  {
   "cell_type": "code",
   "execution_count": 14,
   "metadata": {},
   "outputs": [
    {
     "data": {
      "image/png": "[encoded data removed]",
      "text/plain": [
       "<Figure size 432x288 with 1 Axes>"
      ]
     },
     "metadata": {
      "needs_background": "light"
     },
     "output_type": "display_data"
    }
   ],
   "source": [
    "plt.plot(history1.history['loss'], label='loss')\n",
    "plt.plot(history1.history['val_loss'], label = 'val_loss')\n",
    "plt.title(\"AGG16 Loss over epochs\")\n",
    "plt.xlabel('Epoch')\n",
    "plt.ylabel('Accuracy')\n",
    "plt.ylim([0.01, 2])\n",
    "plt.legend(loc='lower right')\n",
    "plt.grid(True)"
   ]
  },
  {
   "cell_type": "code",
   "execution_count": 16,
   "metadata": {},
   "outputs": [
    {
     "data": {
      "image/png": "[encoded data removed]",
      "text/plain": [
       "<Figure size 432x288 with 1 Axes>"
      ]
     },
     "metadata": {
      "needs_background": "light"
     },
     "output_type": "display_data"
    }
   ],
   "source": [
    "plt.plot(history2.history['accuracy'], label='accuracy')\n",
    "plt.plot(history2.history['val_accuracy'], label = 'val_accuracy')\n",
    "plt.title(\"AGG16 Accuracy over epochs\")\n",
    "plt.xlabel('Epoch')\n",
    "plt.ylabel('Accuracy')\n",
    "plt.ylim([0, 1])\n",
    "plt.legend(loc='lower right')\n",
    "plt.grid(True)"
   ]
  },
  {
   "cell_type": "code",
   "execution_count": 18,
   "metadata": {},
   "outputs": [
    {
     "data": {
      "image/png": "[encoded data removed]",
      "text/plain": [
       "<Figure size 432x288 with 1 Axes>"
      ]
     },
     "metadata": {
      "needs_background": "light"
     },
     "output_type": "display_data"
    }
   ],
   "source": [
    "plt.plot(history2.history['loss'], label='loss')\n",
    "plt.plot(history2.history['val_loss'], label = 'val_loss')\n",
    "plt.title(\"AGG16 Loss over epochs\")\n",
    "plt.xlabel('Epoch')\n",
    "plt.ylabel('Accuracy')\n",
    "plt.ylim([0.01, 5])\n",
    "plt.legend(loc='lower right')\n",
    "plt.grid(True)"
   ]
  },
  {
   "cell_type": "markdown",
   "metadata": {
    "nbpresent": {
     "id": "66140980-2aa4-457f-b1df-74c10c234cc2"
    }
   },
   "source": [
    "#### Testing Model"
   ]
  },
  {
   "cell_type": "code",
   "execution_count": 19,
   "metadata": {},
   "outputs": [
    {
     "name": "stdout",
     "output_type": "stream",
     "text": [
      "Found 36 images belonging to 4 classes.\n",
      "36\n",
      "WARNING:tensorflow:From <ipython-input-19-29ca5faaa49c>:7: Model.evaluate_generator (from tensorflow.python.keras.engine.training) is deprecated and will be removed in a future version.\n",
      "Instructions for updating:\n",
      "Please use Model.evaluate, which supports generators.\n",
      "36/36 [==============================] - 3s 89ms/step - loss: 0.8262 - accuracy: 0.6944\n",
      "Test loss: 0.8262153267860413\n",
      "Test accuracy: 0.6944444179534912\n"
     ]
    }
   ],
   "source": [
    "test_datagen = ImageDataGenerator(rescale=1. / 255)\n",
    "\n",
    "eval_generator = test_datagen.flow_from_directory(TEST_DIR,target_size=IMAGE_SIZE,\n",
    "                                                  batch_size=1,shuffle=True,seed=42,class_mode=\"categorical\")\n",
    "eval_generator.reset()\n",
    "print(len(eval_generator))\n",
    "x = model1.evaluate_generator(eval_generator,steps = np.ceil(len(eval_generator)),\n",
    "                           use_multiprocessing = False,verbose = 1,workers=1)\n",
    "print('Test loss:' , x[0])\n",
    "print('Test accuracy:',x[1])"
   ]
  },
  {
   "cell_type": "markdown",
   "metadata": {
    "nbpresent": {
     "id": "66140980-2aa4-457f-b1df-74c10c234cc2"
    }
   },
   "source": [
    "## [10 points] TSNE Plot\n",
    "t-Distributed Stochastic Neighbor Embedding (t-SNE) is a widely used technique for dimensionality reduction that is particularly well suited for the visualization of high-dimensional datasets. After training is complete, extract features from a specific deep layer of your choice, use t-SNE to reduce the dimensionality of your extracted features to 2 dimensions and plot the resulting 2D features."
   ]
  },
  {
   "cell_type": "code",
   "execution_count": 33,
   "metadata": {},
   "outputs": [
    {
     "name": "stdout",
     "output_type": "stream",
     "text": [
      "Found 270 images belonging to 4 classes.\n"
     ]
    },
    {
     "data": {
      "image/png": "[encoded data removed]",
      "text/plain": [
       "<Figure size 432x288 with 1 Axes>"
      ]
     },
     "metadata": {
      "needs_background": "light"
     },
     "output_type": "display_data"
    }
   ],
   "source": [
    "from sklearn.manifold import TSNE\n",
    "\n",
    "intermediate_layer_model = tf.keras.models.Model(inputs=model1.input,\n",
    "                                        outputs=model1.get_layer('dense_2').output)\n",
    "\n",
    "tsne_eval_generator = test_datagen.flow_from_directory(DATASET_PATH,target_size=IMAGE_SIZE,\n",
    "                                                  batch_size=1,shuffle=False,seed=42,class_mode=\"categorical\")\n",
    "\n",
    "#raise NotImplementedError(\"Extract features from the tsne_data_generator and fit a t-SNE model for the features,\"\"and plot the resulting 2D features of the four classes.\")\n",
    "\n",
    "tsne_eval_generator.reset()\n",
    "Comparison = TSNE(n_components=2).fit_transform(intermediate_layer_model.predict_generator(tsne_eval_generator))\n",
    "for i, j in enumerate(Comparison):\n",
    "    if tsne_eval_generator.labels[i]==0:\n",
    "        plt.scatter(j[0], j[1], color='b', alpha=0.5)\n",
    "    elif tsne_eval_generator.labels[i]==1:\n",
    "        plt.scatter(j[0], j[1], color='r', alpha=0.5)\n",
    "    elif tsne_eval_generator.labels[i]==2:\n",
    "        plt.scatter(j[0], j[1], color='g', alpha=0.5)\n",
    "    elif tsne_eval_generator.labels[i]==3:\n",
    "        plt.scatter(j[0], j[1], color='y', alpha=0.5)\n",
    "plt.show()"
   ]
  },
  {
   "cell_type": "markdown",
   "metadata": {
    "nbpresent": {
     "id": "66140980-2aa4-457f-b1df-74c10c234cc2"
    }
   },
   "source": [
    "<!-- #### Renew Training Batch and Validation Batch -->"
   ]
  },
  {
   "cell_type": "markdown",
   "metadata": {
    "nbpresent": {
     "id": "66140980-2aa4-457f-b1df-74c10c234cc2"
    }
   },
   "source": [
    "<!-- #### Renew Model -->"
   ]
  }
 ],
 "metadata": {
  "kernelspec": {
   "display_name": "Python 3",
   "language": "python",
   "name": "python3"
  },
  "language_info": {
   "codemirror_mode": {
    "name": "ipython",
    "version": 3
   },
   "file_extension": ".py",
   "mimetype": "text/x-python",
   "name": "python",
   "nbconvert_exporter": "python",
   "pygments_lexer": "ipython3",
   "version": "3.8.6"
  },
  "latex_envs": {
   "LaTeX_envs_menu_present": true,
   "autoclose": false,
   "autocomplete": true,
   "bibliofile": "biblio.bib",
   "cite_by": "apalike",
   "current_citInitial": 1,
   "eqLabelWithNumbers": true,
   "eqNumInitial": 1,
   "hotkeys": {
    "equation": "Ctrl-E",
    "itemize": "Ctrl-I"
   },
   "labels_anchors": false,
   "latex_user_defs": false,
   "report_style_numbering": false,
   "user_envs_cfg": false
  },
  "toc": {
   "base_numbering": 1,
   "nav_menu": {},
   "number_sections": true,
   "sideBar": true,
   "skip_h1_title": false,
   "title_cell": "Table of Contents",
   "title_sidebar": "Contents",
   "toc_cell": false,
   "toc_position": {},
   "toc_section_display": true,
   "toc_window_display": false
  },
  "varInspector": {
   "cols": {
    "lenName": 16,
    "lenType": 16,
    "lenVar": 40
   },
   "kernels_config": {
    "python": {
     "delete_cmd_postfix": "",
     "delete_cmd_prefix": "del ",
     "library": "var_list.py",
     "varRefreshCmd": "print(var_dic_list())"
    },
    "r": {
     "delete_cmd_postfix": ") ",
     "delete_cmd_prefix": "rm(",
     "library": "var_list.r",
     "varRefreshCmd": "cat(var_dic_list()) "
    }
   },
   "types_to_exclude": [
    "module",
    "function",
    "builtin_function_or_method",
    "instance",
    "_Feature"
   ],
   "window_display": false
  }
 },
 "nbformat": 4,
 "nbformat_minor": 4
}
